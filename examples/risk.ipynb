{
 "cells": [
  {
   "cell_type": "markdown",
   "metadata": {},
   "source": [
    "# Risk Metrics\n",
    "\n",
    "*Work in Progress*"
   ]
  },
  {
   "cell_type": "markdown",
   "metadata": {},
   "source": [
    "This notebook aims to provide basic usage examples for describing the quantitative risk metrics of Yearn's products and some additional relevant information."
   ]
  },
  {
   "cell_type": "code",
   "execution_count": 1,
   "metadata": {},
   "outputs": [],
   "source": [
    "\"\"\"load dependencies and define constants\"\"\"\n",
    "import sys\n",
    "from pprint import pprint\n",
    "\n",
    "sys.path.append(\"..\")\n",
    "from src.yearn.yearn import Yearn\n",
    "from src.yearn import Network"
   ]
  },
  {
   "cell_type": "code",
   "execution_count": 2,
   "metadata": {},
   "outputs": [
    {
     "name": "stdout",
     "output_type": "stream",
     "text": [
      "loaded metadata for 93 vaults (v2)\n"
     ]
    }
   ],
   "source": [
    "\"\"\"load v2 vaults from the yearn instance\"\"\"\n",
    "yearn = Yearn(Network.Mainnet)\n",
    "vaults = yearn.vaults\n",
    "print(f\"loaded metadata for {len(vaults)} vaults (v2)\")"
   ]
  },
  {
   "cell_type": "code",
   "execution_count": 3,
   "metadata": {},
   "outputs": [
    {
     "name": "stdout",
     "output_type": "stream",
     "text": [
      "[<Vault name=yvWBTC 0.3.5>,\n",
      " <Vault name=yvCurve-LINK 0.3.5>,\n",
      " <Vault name=yvCurve-sAave 0.3.5>,\n",
      " <Vault name=yvCurve-cvxCRV 0.4.3>,\n",
      " <Vault name=yvCurve-ibGBP 0.4.3>,\n",
      " <Vault name=yvCurve-3Crypto 0.4.3>,\n",
      " <Vault name=yvCurve-USDP 0.3.5>,\n",
      " <Vault name=yvUSDC 0.4.3>,\n",
      " <Vault name=yvSNX 0.3.5>,\n",
      " <Vault name=yvCurve-TUSD 0.3.5>]\n"
     ]
    }
   ],
   "source": [
    "pprint(vaults[:10])"
   ]
  },
  {
   "cell_type": "code",
   "execution_count": 4,
   "metadata": {},
   "outputs": [
    {
     "name": "stdout",
     "output_type": "stream",
     "text": [
      "[<Strategy name=SingleSidedCrvWBTC>,\n",
      " <Strategy name=StrategyLenderYieldOptimiser>,\n",
      " <Strategy name=StrategyMakerWBTCDAIDelegate>,\n",
      " <Strategy name=SingleSidedCrvWBTC>,\n",
      " <Strategy name=Strategy Vesper WBTC>,\n",
      " <Strategy name=ssc wbtc bbtc>,\n",
      " <Strategy name=ssc wbtc pbtc>,\n",
      " <Strategy name=ssc wbtc obtc>,\n",
      " <Strategy name=yvWBTCStratMMV1>,\n",
      " <Strategy name=Strategy-Levered-AAVE-wBTC>,\n",
      " <Strategy name=StrategyGenericLevCompFarm>,\n",
      " <Strategy name=StrategyGenLevAAVE>,\n",
      " <Strategy name=GenLevCompV2>,\n",
      " <Strategy name=GenLevCompV3>,\n",
      " <Strategy name=StrategyGenLevAAVE-Flashmint>,\n",
      " <Strategy name=SSBv3 WBTC staBAL3-BTC>,\n",
      " <Strategy name=88MPH WBTC via Compound>]\n"
     ]
    }
   ],
   "source": [
    "pprint(vaults[0].strategies)"
   ]
  },
  {
   "cell_type": "code",
   "execution_count": 5,
   "metadata": {},
   "outputs": [
    {
     "name": "stdout",
     "output_type": "stream",
     "text": [
      "[<Strategy name=PoolTogether USD Coin>,\n",
      " <Strategy name=88MPH SNX via Aave>,\n",
      " <Strategy name=StrategyCurveMIM>,\n",
      " <Strategy name=Routeryvdai043>,\n",
      " <Strategy name=SingleSidedCrvWBTC>,\n",
      " <Strategy name=ssc_eth_seth>,\n",
      " <Strategy name=StrategyUniverseStaking>,\n",
      " <Strategy name=ConvexlinkCRV>,\n",
      " <Strategy name=StrategyTokemakDAI>,\n",
      " <Strategy name=StrategyCurveibCHF>]\n"
     ]
    }
   ],
   "source": [
    "pprint(yearn.strategies[:10])"
   ]
  },
  {
   "cell_type": "code",
   "execution_count": 6,
   "metadata": {},
   "outputs": [
    {
     "name": "stdout",
     "output_type": "stream",
     "text": [
      "{'overallScore': {'high': 3.37675585284281,\n",
      "                  'low': 2.5463210702341135,\n",
      "                  'median': 2.9615384615384617},\n",
      " 'protocols': [{'DeFiSafetyScores': {'adminControlsScore': 84.0,\n",
      "                                     'contractsAndTeamScore': 100.0,\n",
      "                                     'documentationScore': 94.0,\n",
      "                                     'oraclesScore': 100.0,\n",
      "                                     'overallScore': 93.0,\n",
      "                                     'securityScore': 95.0,\n",
      "                                     'testingScore': 90.0},\n",
      "                'Name': 'Compound'},\n",
      "               {'DeFiSafetyScores': {'adminControlsScore': 91.0,\n",
      "                                     'contractsAndTeamScore': 100.0,\n",
      "                                     'documentationScore': 100.0,\n",
      "                                     'oraclesScore': 100.0,\n",
      "                                     'overallScore': 95.0,\n",
      "                                     'securityScore': 95.0,\n",
      "                                     'testingScore': 86.0},\n",
      "                'Name': 'PoolTogether'}],\n",
      " 'riskScores': {'TVLImpact': 0,\n",
      "                'auditScore': 5,\n",
      "                'codeReviewScore': 2,\n",
      "                'complexityScore': 3,\n",
      "                'longevityImpact': 1,\n",
      "                'protocolSafetyScore': 3,\n",
      "                'teamKnowledgeScore': 5,\n",
      "                'testingScore': 4},\n",
      " 'tokens': ['PcUSDC', 'COMP', 'yvUSDC', 'POOL']}\n"
     ]
    }
   ],
   "source": [
    "\"\"\"describe a given strategy\"\"\"\n",
    "info = yearn.describe(yearn.strategies[0])\n",
    "pprint(info)"
   ]
  },
  {
   "cell_type": "code",
   "execution_count": 7,
   "metadata": {},
   "outputs": [
    {
     "name": "stdout",
     "output_type": "stream",
     "text": [
      "{'overallScore': {'high': 2.2752366800075863,\n",
      "                  'low': 1.7845149064132193,\n",
      "                  'median': 2.029875793210403},\n",
      " 'protocols': [{'DeFiSafetyScores': {'adminControlsScore': 71.0,\n",
      "                                     'contractsAndTeamScore': 68.0,\n",
      "                                     'documentationScore': 84.0,\n",
      "                                     'oraclesScore': None,\n",
      "                                     'overallScore': 81.0,\n",
      "                                     'securityScore': 96.0,\n",
      "                                     'testingScore': 75.0},\n",
      "                'Name': 'Maker',\n",
      "                'TVL Ratio': 0.0},\n",
      "               {'DeFiSafetyScores': {'adminControlsScore': 97.0,\n",
      "                                     'contractsAndTeamScore': 100.0,\n",
      "                                     'documentationScore': 94.0,\n",
      "                                     'oraclesScore': 100.0,\n",
      "                                     'overallScore': 93.0,\n",
      "                                     'securityScore': 95.0,\n",
      "                                     'testingScore': 72.0},\n",
      "                'Name': 'Curve.fi',\n",
      "                'TVL Ratio': 0.12377062260389834},\n",
      "               {'DeFiSafetyScores': {'adminControlsScore': 86.0,\n",
      "                                     'contractsAndTeamScore': 100.0,\n",
      "                                     'documentationScore': 95.0,\n",
      "                                     'oraclesScore': None,\n",
      "                                     'overallScore': 95.0,\n",
      "                                     'securityScore': 95.5,\n",
      "                                     'testingScore': 98.5},\n",
      "                'Name': 'Aave',\n",
      "                'TVL Ratio': 0.0},\n",
      "               {'DeFiSafetyScores': {'adminControlsScore': 89.0,\n",
      "                                     'contractsAndTeamScore': 100.0,\n",
      "                                     'documentationScore': 93.0,\n",
      "                                     'oraclesScore': None,\n",
      "                                     'overallScore': 96.0,\n",
      "                                     'securityScore': 95.0,\n",
      "                                     'testingScore': 100.0},\n",
      "                'Name': 'Aave V2',\n",
      "                'TVL Ratio': 0.0},\n",
      "               {'DeFiSafetyScores': {'adminControlsScore': 84.0,\n",
      "                                     'contractsAndTeamScore': 100.0,\n",
      "                                     'documentationScore': 94.0,\n",
      "                                     'oraclesScore': 100.0,\n",
      "                                     'overallScore': 93.0,\n",
      "                                     'securityScore': 95.0,\n",
      "                                     'testingScore': 90.0},\n",
      "                'Name': 'Compound',\n",
      "                'TVL Ratio': 3.6448743907626444e-07},\n",
      "               {'DeFiSafetyScores': {'adminControlsScore': 82.0,\n",
      "                                     'contractsAndTeamScore': 100.0,\n",
      "                                     'documentationScore': 100.0,\n",
      "                                     'oraclesScore': 100.0,\n",
      "                                     'overallScore': 94.0,\n",
      "                                     'securityScore': 100.0,\n",
      "                                     'testingScore': 90.0},\n",
      "                'Name': 'Balancer',\n",
      "                'TVL Ratio': 0.8762290129086625}],\n",
      " 'riskScores': {'auditScore': 4.123770622603898,\n",
      "                'codeReviewScore': 2.0,\n",
      "                'complexityScore': 3.0000007289748782,\n",
      "                'protocolSafetyScore': 1.0,\n",
      "                'teamKnowledgeScore': 2.0,\n",
      "                'testingScore': 2.123770622603898},\n",
      " 'tokens': [{'Name': 'yvWBTC', 'TVL Ratio': 0.12377098709133741},\n",
      "            {'Name': 'WBTC', 'TVL Ratio': 1.0},\n",
      "            {'Name': 'DAI', 'TVL Ratio': 0.0},\n",
      "            {'Name': 'yvDAI', 'TVL Ratio': 0.0},\n",
      "            {'Name': 'yvCurve-HBTC', 'TVL Ratio': 0.12377062260389834},\n",
      "            {'Name': 'hCRV', 'TVL Ratio': 0.12377062260389834},\n",
      "            {'Name': 'vWBTC', 'TVL Ratio': 0.0},\n",
      "            {'Name': 'VSP', 'TVL Ratio': 0.0},\n",
      "            {'Name': 'bBTC/sbtcCRV', 'TVL Ratio': 0.0},\n",
      "            {'Name': 'yvCurve-BBTC', 'TVL Ratio': 0.0},\n",
      "            {'Name': 'yvCurve-pBTC', 'TVL Ratio': 0.0},\n",
      "            {'Name': 'pBTC/sbtcCRV', 'TVL Ratio': 0.0},\n",
      "            {'Name': 'oBTC/sbtcCRV', 'TVL Ratio': 0.0},\n",
      "            {'Name': 'yvCurve-oBTC', 'TVL Ratio': 0.0},\n",
      "            {'Name': 'MM', 'TVL Ratio': 0.0},\n",
      "            {'Name': 'mWBTC', 'TVL Ratio': 0.0},\n",
      "            {'Name': 'cETH', 'TVL Ratio': 3.6448743907626444e-07},\n",
      "            {'Name': 'COMP', 'TVL Ratio': 3.6448743907626444e-07},\n",
      "            {'Name': 'WETH', 'TVL Ratio': 3.6448743907626444e-07},\n",
      "            {'Name': 'cWBTC', 'TVL Ratio': 3.6448743907626444e-07},\n",
      "            {'Name': 'cDAI', 'TVL Ratio': 0.0},\n",
      "            {'Name': 'staBAL3-BTC', 'TVL Ratio': 0.8762290129086625},\n",
      "            {'Name': 'BAL', 'TVL Ratio': 0.8762290129086625},\n",
      "            {'Name': 'staBAL3-BTC-gauge', 'TVL Ratio': 0.8762290129086625}],\n",
      " 'topWallets': [['0x92Be6ADB6a12Da0CA607F9d87DB2F9978cD6ec3E',\n",
      "                 0.24285785200456952],\n",
      "                ['0x4b92d19c11435614CD49Af1b589001b7c08cD4D5',\n",
      "                 0.23791877080538126],\n",
      "                ['0x53a393Fbc352fAd69BAEdEFA46C4C1085bb6D707',\n",
      "                 0.09661537452302911],\n",
      "                ['0x8D9487b81e0fEdcd2D8Cab91885756742375CDC5',\n",
      "                 0.06916830311925562],\n",
      "                ['0xA696a63cc78DfFa1a63E9E50587C197387FF6C7E',\n",
      "                 0.05578875019901013],\n",
      "                ['0x13e382dfe53207E9ce2eeEab330F69da2794179E',\n",
      "                 0.039635294920950734],\n",
      "                ['0xe215A738C44fFd8E917b78985C5903a20E201683',\n",
      "                 0.02950394075032685],\n",
      "                ['0xC4f2498B13780754629e7c82Ac300E6f74603425',\n",
      "                 0.0227234001247493],\n",
      "                ['0x5f0845101857d2A91627478e302357860b1598a1',\n",
      "                 0.02133250387901777],\n",
      "                ['0xa84c1C4ab43eF351AC60bb1AB08D2BbF76AA2A23',\n",
      "                 0.020178506718973404]]}\n"
     ]
    }
   ],
   "source": [
    "\"\"\"describe a given vault\"\"\"\n",
    "info = yearn.describe(yearn.vaults[0])\n",
    "pprint(info)"
   ]
  }
 ],
 "metadata": {
  "interpreter": {
   "hash": "125ce61a32026170848d6da81e9b010e731f052604f6e9c487b90ea100608dd9"
  },
  "kernelspec": {
   "display_name": "Python 3.9.12 ('yearn-data')",
   "language": "python",
   "name": "python3"
  },
  "language_info": {
   "codemirror_mode": {
    "name": "ipython",
    "version": 3
   },
   "file_extension": ".py",
   "mimetype": "text/x-python",
   "name": "python",
   "nbconvert_exporter": "python",
   "pygments_lexer": "ipython3",
   "version": "3.9.12"
  },
  "orig_nbformat": 4
 },
 "nbformat": 4,
 "nbformat_minor": 2
}
